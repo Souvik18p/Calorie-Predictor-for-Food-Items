{
 "cells": [
  {
   "cell_type": "code",
   "execution_count": 7,
   "id": "f673a859",
   "metadata": {},
   "outputs": [
    {
     "name": "stdout",
     "output_type": "stream",
     "text": [
      "Mean Squared Error: 33484.69432428271\n",
      "Enter the name of the food item (or type 'exit' to quit): Apple\n"
     ]
    },
    {
     "name": "stderr",
     "output_type": "stream",
     "text": [
      "C:\\Users\\souvi\\anaconda3\\envs\\myenv\\lib\\site-packages\\sklearn\\base.py:465: UserWarning: X does not have valid feature names, but LinearRegression was fitted with feature names\n",
      "  warnings.warn(\n"
     ]
    },
    {
     "name": "stdout",
     "output_type": "stream",
     "text": [
      "Predicted calories for Apple: 264.14 cal\n",
      "Enter the name of the food item (or type 'exit' to quit): kiwi\n"
     ]
    },
    {
     "name": "stderr",
     "output_type": "stream",
     "text": [
      "C:\\Users\\souvi\\anaconda3\\envs\\myenv\\lib\\site-packages\\sklearn\\base.py:465: UserWarning: X does not have valid feature names, but LinearRegression was fitted with feature names\n",
      "  warnings.warn(\n"
     ]
    },
    {
     "name": "stdout",
     "output_type": "stream",
     "text": [
      "Predicted calories for kiwi: 264.89 cal\n",
      "Enter the name of the food item (or type 'exit' to quit): potato\n"
     ]
    },
    {
     "name": "stderr",
     "output_type": "stream",
     "text": [
      "C:\\Users\\souvi\\anaconda3\\envs\\myenv\\lib\\site-packages\\sklearn\\base.py:465: UserWarning: X does not have valid feature names, but LinearRegression was fitted with feature names\n",
      "  warnings.warn(\n"
     ]
    },
    {
     "name": "stdout",
     "output_type": "stream",
     "text": [
      "Predicted calories for potato: 287.45 cal\n",
      "Enter the name of the food item (or type 'exit' to quit): exit\n",
      "Exiting the program.\n"
     ]
    }
   ],
   "source": [
    "import pandas as pd\n",
    "from sklearn.model_selection import train_test_split\n",
    "from sklearn.linear_model import LinearRegression\n",
    "from sklearn.metrics import mean_squared_error\n",
    "import re\n",
    "\n",
    "# Load dataset\n",
    "data = pd.read_csv('food_calories.csv')\n",
    "\n",
    "# Clean the 'Calories' column\n",
    "data['Calories'] = data['Calories'].str.replace(' cal', '').astype(float)\n",
    "\n",
    "# Extract numerical features from 'Serving' (e.g., weight in grams)\n",
    "def extract_weight(serving_str):\n",
    "    match = re.search(r'\\((\\d+) g\\)', serving_str)\n",
    "    return float(match.group(1)) if match else None\n",
    "\n",
    "data['Weight'] = data['Serving'].apply(extract_weight)\n",
    "\n",
    "# Drop rows where 'Weight' or 'Calories' is NaN\n",
    "data.dropna(subset=['Weight', 'Calories'], inplace=True)\n",
    "\n",
    "# Prepare features and target\n",
    "X = data[['Weight']]\n",
    "y = data['Calories']\n",
    "\n",
    "# Split the data\n",
    "X_train, X_test, y_train, y_test = train_test_split(X, y, test_size=0.2, random_state=42)\n",
    "\n",
    "# Initialize and train the model\n",
    "model = LinearRegression()\n",
    "model.fit(X_train, y_train)\n",
    "\n",
    "# Make predictions and evaluate the model\n",
    "y_pred = model.predict(X_test)\n",
    "mse = mean_squared_error(y_test, y_pred)\n",
    "print(f\"Mean Squared Error: {mse}\")\n",
    "\n",
    "# Function to predict calories for a given food item\n",
    "def predict_calories(food_name):\n",
    "    # Check if the food is in the dataset\n",
    "    food_entry = data[data['Food'].str.lower() == food_name.lower()]\n",
    "    if food_entry.empty:\n",
    "        print(\"Food item not found in the dataset.\")\n",
    "        return\n",
    "\n",
    "    # Extract the weight and predict calories\n",
    "    weight = extract_weight(food_entry['Serving'].values[0])\n",
    "    if weight is None:\n",
    "        print(\"Unable to extract weight from serving size.\")\n",
    "        return\n",
    "\n",
    "    predicted_calories = model.predict([[weight]])[0]\n",
    "    print(f\"Predicted calories for {food_name}: {predicted_calories:.2f} cal\")\n",
    "\n",
    "# Loop for user input\n",
    "while True:\n",
    "    user_input = input(\"Enter the name of the food item (or type 'exit' to quit): \")\n",
    "    if user_input.lower() == 'exit':\n",
    "        print(\"Exiting the program.\")\n",
    "        break\n",
    "    predict_calories(user_input)\n",
    "\n",
    "\n",
    "\n"
   ]
  },
  {
   "cell_type": "code",
   "execution_count": null,
   "id": "885469dc",
   "metadata": {},
   "outputs": [],
   "source": []
  },
  {
   "cell_type": "code",
   "execution_count": null,
   "id": "70f351c9",
   "metadata": {},
   "outputs": [],
   "source": []
  }
 ],
 "metadata": {
  "kernelspec": {
   "display_name": "Python 3 (ipykernel)",
   "language": "python",
   "name": "python3"
  },
  "language_info": {
   "codemirror_mode": {
    "name": "ipython",
    "version": 3
   },
   "file_extension": ".py",
   "mimetype": "text/x-python",
   "name": "python",
   "nbconvert_exporter": "python",
   "pygments_lexer": "ipython3",
   "version": "3.8.18"
  }
 },
 "nbformat": 4,
 "nbformat_minor": 5
}
